{
 "cells": [
  {
   "cell_type": "code",
   "execution_count": 1,
   "metadata": {},
   "outputs": [],
   "source": [
    "import warnings\n",
    "warnings.filterwarnings(\"ignore\", category=DeprecationWarning)\n",
    "import matplotlib.pyplot as plt\n",
    "from sklearn.model_selection import cross_val_score\n",
    "import numpy as np\n",
    "import pandas as pd\n",
    "import random\n",
    "import seaborn as sns\n",
    "from sklearn.model_selection import train_test_split\n",
    "from sklearn.metrics import accuracy_score, classification_report, roc_auc_score \n",
    "from sklearn import svm\n",
    "from sklearn.model_selection import GridSearchCV"
   ]
  },
  {
   "cell_type": "markdown",
   "metadata": {},
   "source": [
    "## Read CSV, Preprocessing Data"
   ]
  },
  {
   "cell_type": "code",
   "execution_count": 24,
   "metadata": {
    "scrolled": true
   },
   "outputs": [],
   "source": [
    "pathology = pd.read_csv('pathology_results.csv')\n",
    "normal = pd.read_csv('norm_results.csv')\n",
    "\n",
    "#избавление от сэмплов со звуком \"и\"\n",
    "pathology.drop(pathology[pathology['voiceID'].str.contains('a') == False].index,inplace=True)\n",
    "normal.drop(normal[normal['voiceID'].str.contains('a') == False].index,inplace = True)\n",
    "\n",
    "#избавление от мужских сэмплов\n",
    "pathology.drop(pathology[pathology['voiceID'].str.contains('m') == True].index, inplace=True)\n",
    "normal.drop(normal[normal['voiceID'].str.contains('m') == True].index, inplace=True)"
   ]
  },
  {
   "cell_type": "markdown",
   "metadata": {},
   "source": [
    "## Class Equalling"
   ]
  },
  {
   "cell_type": "code",
   "execution_count": 30,
   "metadata": {},
   "outputs": [
    {
     "name": "stdout",
     "output_type": "stream",
     "text": [
      "Normal voices samples: (276, 7)\n",
      "Pathological voices samples: (512, 7)\n"
     ]
    }
   ],
   "source": [
    "pathology = pathology.iloc[:,1:]\n",
    "\n",
    "# увеличение патологической выборки в два раза\n",
    "pathology = pd.concat([pathology, pathology])\n",
    "pathology['label'] = 'p'\n",
    "\n",
    "normal = normal.iloc[:,1:]\n",
    "normal['label'] = 'h'\n",
    "\n",
    "\n",
    "print('Normal voices samples:',normal.shape)\n",
    "print('Pathological voices samples:',pathology.shape)"
   ]
  },
  {
   "cell_type": "markdown",
   "metadata": {},
   "source": [
    "## All Voices Summarization"
   ]
  },
  {
   "cell_type": "code",
   "execution_count": 26,
   "metadata": {
    "scrolled": true
   },
   "outputs": [],
   "source": [
    "voices = pd.concat([normal,pathology])"
   ]
  },
  {
   "cell_type": "code",
   "execution_count": 27,
   "metadata": {
    "scrolled": true
   },
   "outputs": [
    {
     "name": "stdout",
     "output_type": "stream",
     "text": [
      "All voice samples (532, 7)\n"
     ]
    }
   ],
   "source": [
    "X = voices.iloc[:,:-1]\n",
    "y = voices.iloc[:,-1]\n",
    "print(\"All voice samples\", X.shape)"
   ]
  },
  {
   "cell_type": "markdown",
   "metadata": {},
   "source": [
    "## Statistics and Scaling"
   ]
  },
  {
   "cell_type": "code",
   "execution_count": 35,
   "metadata": {},
   "outputs": [
    {
     "name": "stdout",
     "output_type": "stream",
     "text": [
      "Pathology train: 179\n",
      "Normal train: 193\n",
      "Pathology test: 40\n",
      "Normal test: 40\n",
      "Min значение признака после масштабирования: [0. 0. 0. 0. 0. 0. 0.]\n",
      "Max значение признака после масштабирования: [1. 1. 1. 1. 1. 1. 1.]\n"
     ]
    }
   ],
   "source": [
    "from sklearn.preprocessing import MinMaxScaler\n",
    "\n",
    "X_train, X_test, y_train, y_test = train_test_split(X,y, train_size = 0.7, test_size = 0.15)\n",
    "print(\"Pathology train:\", y_train[y_train.str.contains('p')==True].shape[0])\n",
    "print(\"Normal train:\", y_train[y_train.str.contains('p')==False].shape[0])\n",
    "print(\"Pathology test:\", y_test[y_test.str.contains('p')==True].shape[0])\n",
    "print(\"Normal test:\", y_test[y_test.str.contains('p')==False].shape[0])\n",
    "\n",
    "\n",
    "scaler = MinMaxScaler()\n",
    "\n",
    "X_train_scaled = scaler.fit_transform(X_train)\n",
    "X_test_scaled = scaler.fit_transform(X_test)\n",
    "print(\"Min значение признака после масштабирования:\", X_test_scaled.min(axis=0))\n",
    "print(\"Max значение признака после масштабирования:\", X_test_scaled.max(axis=0))\n",
    "scaler.fit(X)\n",
    "X_scaled = scaler.transform(X)"
   ]
  },
  {
   "cell_type": "markdown",
   "metadata": {},
   "source": [
    "# Support Vector Machine"
   ]
  },
  {
   "cell_type": "code",
   "execution_count": 81,
   "metadata": {},
   "outputs": [
    {
     "name": "stdout",
     "output_type": "stream",
     "text": [
      "Best score: 0.8439849624060151\n",
      "Best parameters: {'C': 100.0, 'gamma': 150, 'kernel': 'rbf'}\n",
      "              precision    recall  f1-score   support\n",
      "\n",
      "           h       0.84      0.65      0.73        48\n",
      "           p       0.60      0.81      0.69        32\n",
      "\n",
      "   micro avg       0.71      0.71      0.71        80\n",
      "   macro avg       0.72      0.73      0.71        80\n",
      "weighted avg       0.74      0.71      0.71        80\n",
      "\n",
      "Accuracy on test: 0.7125\n"
     ]
    }
   ],
   "source": [
    "parameters = {'kernel':['rbf','linear'], 'C':[0.1,1.0,5.0,10.0,50.0,100.0], 'gamma':[1,3,5,10,50,100,150]}\n",
    "svc = svm.SVC(probability=True)\n",
    "clf = GridSearchCV(svc,parameters,cv=10)\n",
    "clf.fit(X_scaled, y)\n",
    "print(\"Best score:\", clf.best_score_)\n",
    "print(\"Best parameters:\", clf.best_params_)\n",
    "\n",
    "clf = clf.best_estimator_\n",
    "print(classification_report(y_test, clf.predict(X_test_scaled)))\n",
    "print(\"Accuracy on test:\",accuracy_score(y_test, clf.predict(X_test_scaled)))\n",
    "#print(\"Support Vector Machine:\", round(confidence*100,3), \"%\")"
   ]
  },
  {
   "cell_type": "code",
   "execution_count": 82,
   "metadata": {},
   "outputs": [
    {
     "name": "stdout",
     "output_type": "stream",
     "text": [
      "[0.83333333 0.83333333 0.75925926 0.92592593 0.7962963  0.87037037\n",
      " 0.98076923 0.82692308 0.76923077 0.84615385]\n"
     ]
    },
    {
     "data": {
      "text/plain": [
       "Text(0.5, 1.0, 'Average score: 0.8441595441595441')"
      ]
     },
     "execution_count": 82,
     "metadata": {},
     "output_type": "execute_result"
    },
    {
     "data": {
      "image/png": "[encoded data removed]",
      "text/plain": [
       "<Figure size 432x288 with 1 Axes>"
      ]
     },
     "metadata": {
      "needs_background": "light"
     },
     "output_type": "display_data"
    }
   ],
   "source": [
    "cv_scores = cross_val_score(clf, X_scaled, y, cv=10)\n",
    "print(cv_scores)\n",
    "sns.distplot(cv_scores)\n",
    "plt.title('Average score: {}'.format(np.mean(cv_scores)))"
   ]
  },
  {
   "cell_type": "markdown",
   "metadata": {},
   "source": [
    "# GradientBoostingClassifier"
   ]
  },
  {
   "cell_type": "code",
   "execution_count": 98,
   "metadata": {
    "scrolled": false
   },
   "outputs": [
    {
     "name": "stdout",
     "output_type": "stream",
     "text": [
      "Best score: 0.8333333333333334\n",
      "Best parameters: {'learning_rate': 0.2, 'max_depth': 4, 'n_estimators': 50}\n",
      "              precision    recall  f1-score   support\n",
      "\n",
      "           h       0.97      0.75      0.85        44\n",
      "           p       0.76      0.97      0.85        36\n",
      "\n",
      "   micro avg       0.85      0.85      0.85        80\n",
      "   macro avg       0.87      0.86      0.85        80\n",
      "weighted avg       0.88      0.85      0.85        80\n",
      "\n",
      "Accuracy test score: 0.85\n"
     ]
    },
    {
     "data": {
      "image/png": "[encoded data removed]",
      "text/plain": [
       "<Figure size 432x288 with 1 Axes>"
      ]
     },
     "metadata": {
      "needs_background": "light"
     },
     "output_type": "display_data"
    }
   ],
   "source": [
    "from sklearn.ensemble import GradientBoostingClassifier\n",
    "\n",
    "GB = GradientBoostingClassifier(random_state = 12)\n",
    "params = {'learning_rate':[0.1,0.2,0.3, 0.4, 0.5],'n_estimators':[4,8,12,24,34,50], 'max_depth':[1,2,3,4,5]}\n",
    "clf = GridSearchCV(GB,params,cv=10)\n",
    "clf.fit(X_train, y_train)\n",
    "print(\"Best score:\", clf.best_score_)\n",
    "print(\"Best parameters:\", clf.best_params_)\n",
    "clf = clf.best_estimator_\n",
    "\n",
    "def plot_feature_importances(model):\n",
    "    n_features = X.shape[1]\n",
    "    plt.barh(range(n_features), model.feature_importances_, align='center')\n",
    "    plt.yticks(np.arange(n_features), X.iloc[:])\n",
    "    plt.xlabel(\"Важность признака\")\n",
    "    plt.ylabel(\"Признак\")\n",
    "plot_feature_importances(clf)\n",
    "print(classification_report(y_test,clf.predict(X_test)))\n",
    "print('Accuracy test score:', accuracy_score(y_test,clf.predict(X_test)))"
   ]
  },
  {
   "cell_type": "code",
   "execution_count": 99,
   "metadata": {},
   "outputs": [
    {
     "name": "stdout",
     "output_type": "stream",
     "text": [
      "[0.92592593 0.88888889 0.90740741 0.94444444 0.88888889 0.92592593\n",
      " 0.92307692 0.88461538 0.82692308 0.94230769]\n"
     ]
    },
    {
     "data": {
      "text/plain": [
       "Text(0.5, 1.0, 'Average score: 0.9058404558404558')"
      ]
     },
     "execution_count": 99,
     "metadata": {},
     "output_type": "execute_result"
    },
    {
     "data": {
      "image/png": "[encoded data removed]",
      "text/plain": [
       "<Figure size 432x288 with 1 Axes>"
      ]
     },
     "metadata": {
      "needs_background": "light"
     },
     "output_type": "display_data"
    }
   ],
   "source": [
    "cv_scores = cross_val_score(clf, X, y, cv=10)\n",
    "print(cv_scores)\n",
    "sns.distplot(cv_scores)\n",
    "plt.title('Average score: {}'.format(np.mean(cv_scores)))"
   ]
  },
  {
   "cell_type": "markdown",
   "metadata": {},
   "source": [
    "## Saving Classifier"
   ]
  },
  {
   "cell_type": "code",
   "execution_count": 102,
   "metadata": {},
   "outputs": [],
   "source": [
    "import pickle\n",
    "pickle.dump(clf, open('GB_model.sav','wb'))"
   ]
  },
  {
   "cell_type": "code",
   "execution_count": 103,
   "metadata": {},
   "outputs": [
    {
     "name": "stdout",
     "output_type": "stream",
     "text": [
      "(7,)\n",
      "Dysphonic probability: 98.1 %\n"
     ]
    }
   ],
   "source": [
    "clf = pickle.load(open('GradientBoosting_model.sav','rb'))\n",
    "arr = np.array([1,1,5,0.1,0.6,1,7])\n",
    "print(arr.shape)\n",
    "print(\"Dysphonic probability:\", round(clf.predict_proba([arr])[:,1][0]*100,1),'%')"
   ]
  }
 ],
 "metadata": {
  "kernelspec": {
   "display_name": "Python 3",
   "language": "python",
   "name": "python3"
  },
  "language_info": {
   "codemirror_mode": {
    "name": "ipython",
    "version": 3
   },
   "file_extension": ".py",
   "mimetype": "text/x-python",
   "name": "python",
   "nbconvert_exporter": "python",
   "pygments_lexer": "ipython3",
   "version": "3.7.4"
  }
 },
 "nbformat": 4,
 "nbformat_minor": 2
}
